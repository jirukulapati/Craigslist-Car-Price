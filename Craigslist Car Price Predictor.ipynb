{
 "cells": [
  {
   "cell_type": "code",
   "execution_count": 1,
   "metadata": {},
   "outputs": [],
   "source": [
    "import numpy as np\n",
    "import pandas as pd\n",
    "import pickle\n",
    "from sklearn import datasets, linear_model\n",
    "from sklearn.model_selection import train_test_split\n",
    "import matplotlib.pyplot as plt\n",
    "\n",
    "#Load up the craigslist car dataset\n",
    "carPrices = pd.read_csv('craigslistVehicles.csv')\n",
    "\n",
    "#And clean it up\n"
   ]
  },
  {
   "cell_type": "code",
   "execution_count": 2,
   "metadata": {},
   "outputs": [
    {
     "name": "stdout",
     "output_type": "stream",
     "text": [
      "Index(['url', 'city', 'city_url', 'price', 'year', 'manufacturer', 'make',\n",
      "       'condition', 'cylinders', 'fuel', 'odometer', 'title_status',\n",
      "       'transmission', 'VIN', 'drive', 'size', 'type', 'paint_color',\n",
      "       'image_url', 'desc', 'lat', 'long'],\n",
      "      dtype='object')\n"
     ]
    }
   ],
   "source": [
    "print(carPrices.columns)"
   ]
  },
  {
   "cell_type": "code",
   "execution_count": 14,
   "metadata": {},
   "outputs": [],
   "source": [
    "carPrices = carPrices[['price', 'year', 'manufacturer', 'make', 'condition', 'cylinders', 'fuel', 'odometer', 'transmission', 'drive', 'size', 'type', 'paint_color']]\n"
   ]
  },
  {
   "cell_type": "code",
   "execution_count": 15,
   "metadata": {
    "scrolled": true
   },
   "outputs": [],
   "source": [
    "carPrices = carPrices.dropna()"
   ]
  },
  {
   "cell_type": "code",
   "execution_count": 16,
   "metadata": {},
   "outputs": [],
   "source": [
    "price = carPrices['price']\n",
    "carData = carPrices.loc[:, carPrices.columns != 'price']"
   ]
  },
  {
   "cell_type": "code",
   "execution_count": 17,
   "metadata": {},
   "outputs": [],
   "source": [
    "#Isolate dummy variables-need to convert categorical variables so they usable for regression\n",
    "\n",
    "cylinders = pd.get_dummies(carData['cylinders'])\n",
    "fuel = pd.get_dummies(carData['fuel'])\n",
    "#manufacturer = pd.get_dummies(carData['manufacturer'])\n",
    "color = pd.get_dummies(carData['paint_color'])\n",
    "#size = pd.get_dummies(carData['size'])\n",
    "#type_of_car = pd.get_dummies(carData['type'])\n",
    "#transmission = pd.get_dummies(carData['transmission'])\n",
    "#drive = pd.get_dummies(carData['drive'])\n",
    "condition = pd.get_dummies(carData['condition'])\n",
    "odometer = carData['odometer']\n",
    "age = (carData['year'] - 2019)*-1\n"
   ]
  },
  {
   "cell_type": "code",
   "execution_count": 18,
   "metadata": {},
   "outputs": [
    {
     "name": "stdout",
     "output_type": "stream",
     "text": [
      "oMax:  10000000.0\n",
      "oMin:  0.0\n",
      "aMax:  103.0\n",
      "aMin:  -1.0\n"
     ]
    }
   ],
   "source": [
    "#normalize the only numerical value we're using\n",
    "#normalize odometer\n",
    "oMax = odometer.max()\n",
    "print(\"oMax: \",oMax)\n",
    "oMin = odometer.min()\n",
    "print(\"oMin: \", oMin)\n",
    "odometer = (odometer - oMin) * (1/(oMax - oMin))\n",
    "\n",
    "#normalize age\n",
    "aMax = age.max()\n",
    "print(\"aMax: \", aMax)\n",
    "aMin = age.min()\n",
    "print(\"aMin: \", aMin)\n",
    "age = (age - aMin) * (1/(aMax - aMin))"
   ]
  },
  {
   "cell_type": "code",
   "execution_count": 20,
   "metadata": {},
   "outputs": [
    {
     "name": "stdout",
     "output_type": "stream",
     "text": [
      "Index(['odometer', 'year', '10 cylinders', '12 cylinders', '3 cylinders',\n",
      "       '4 cylinders', '5 cylinders', '6 cylinders', '8 cylinders', 'other',\n",
      "       'price'],\n",
      "      dtype='object')\n"
     ]
    }
   ],
   "source": [
    "carData = pd.concat([odometer, age, cylinders, price], axis = 1)\n",
    "print(carData.columns)\n"
   ]
  },
  {
   "cell_type": "code",
   "execution_count": 10,
   "metadata": {},
   "outputs": [],
   "source": [
    "#using the typical sklearn train test split yields a memory error so we have to manually shuffle and split the data\n",
    "price = carData['price']\n",
    "carData = carData.loc[:, carData.columns != 'price']\n",
    "#carData = carData.to_numpy()\n",
    "#price = price.to_numpy()\n",
    "X_train, X_test, Y_train, Y_test = train_test_split(carData, price, test_size= 0.4, random_state = 42)"
   ]
  },
  {
   "cell_type": "code",
   "execution_count": 11,
   "metadata": {},
   "outputs": [],
   "source": [
    "#def split(matrix, target, test_proportion):\n",
    " #   amount = int(matrix.shape[0]/test_proportion) #should be int\n",
    " #   X_train = matrix[amount:,:]\n",
    " #   X_test =  matrix[:amount,:]\n",
    " #   Y_train = target[amount:]\n",
    " #   Y_test =  target[:amount]\n",
    " #   return X_train, X_test, Y_train, Y_test\n",
    "\n",
    "#X_train, X_test, Y_train, Y_test = split(carData, price, 3)"
   ]
  },
  {
   "cell_type": "code",
   "execution_count": 12,
   "metadata": {},
   "outputs": [],
   "source": [
    "from sklearn.pipeline import make_pipeline\n",
    "\n",
    "model = linear_model.Ridge()\n",
    "model.fit(X_train, Y_train)\n",
    "Y_predict = model.predict(X_test)\n",
    "Y_predict = Y_predict * 1/100\n",
    "Y_predict[Y_predict < 0] = 0\n",
    "\n"
   ]
  },
  {
   "cell_type": "code",
   "execution_count": 13,
   "metadata": {},
   "outputs": [
    {
     "name": "stdout",
     "output_type": "stream",
     "text": [
      "-0.000917689963436219\n"
     ]
    }
   ],
   "source": [
    "from sklearn.metrics import explained_variance_score\n",
    "r2 = explained_variance_score(Y_test, Y_predict)\n",
    "print(r2)"
   ]
  },
  {
   "cell_type": "code",
   "execution_count": 151,
   "metadata": {},
   "outputs": [],
   "source": [
    "with open('car_pricing_model', 'wb') as handle:\n",
    "    pickle.dump(model, handle, protocol = pickle.HIGHEST_PROTOCOL)"
   ]
  },
  {
   "cell_type": "code",
   "execution_count": null,
   "metadata": {},
   "outputs": [],
   "source": []
  },
  {
   "cell_type": "code",
   "execution_count": null,
   "metadata": {},
   "outputs": [],
   "source": []
  }
 ],
 "metadata": {
  "kernelspec": {
   "display_name": "Python 3",
   "language": "python",
   "name": "python3"
  },
  "language_info": {
   "codemirror_mode": {
    "name": "ipython",
    "version": 3
   },
   "file_extension": ".py",
   "mimetype": "text/x-python",
   "name": "python",
   "nbconvert_exporter": "python",
   "pygments_lexer": "ipython3",
   "version": "3.7.4"
  }
 },
 "nbformat": 4,
 "nbformat_minor": 2
}
